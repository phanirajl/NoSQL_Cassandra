{
 "cells": [
  {
   "cell_type": "markdown",
   "metadata": {},
   "source": [
    "# NOSQL Enunciado Práctica"
   ]
  },
  {
   "cell_type": "markdown",
   "metadata": {},
   "source": [
    "# TED Talks"
   ]
  },
  {
   "cell_type": "markdown",
   "metadata": {},
   "source": [
    "TED, *Technology, Entertainment, Design*  es una organización sin ánimo de lucro dedicada a las *ideas dignas de difundir* (https://es.wikipedia.org/wiki/TED). Para muchas personas, estas charlas resultan muy inspiradoras e interesantes. TED da la oportunidad de escuchar, de manera gratuita, a conferenciantes que son referencia a nivel mundial en diversos campos.\n",
    "\n",
    "**Objetivo de la práctica**\n",
    "\n",
    "El objetivo de la práctica es definir un modelo de datos en Cassandra y en MongoDb para guardar las charlas de TED de forma que se puedan respondar una serie de preguntas de forma óptima.\n",
    "\n",
    "**¿De dónde se han obtenido los datos?**\n",
    "\n",
    "Los datos se han obtenido de Kaggle (https://www.kaggle.com/rounakbanik/ted-talks). Tal y como mencionan, los datos corresponden a todas las charlas subidas a TED.com hasta el día 21 de septiembre de 2017. \n",
    "\n",
    "**¿Qué información contienen? ¿y formato?**\n",
    "\n",
    "Hay dos dataset, *TED_MAIN.csv* que contiene los metadatos de las charlas, incluidos los conferenciantes y *transcripts.csv* que contiene las transcripciones de cada charla . Están en formato *CSV* como se puede ver. Los metadatos de las charlas (campos de TED_MAIN) son:\n",
    "\n",
    "+ Comments: número de comentarios sobre la charla.\n",
    "+ description : Breve descripción de la charla.\n",
    "+ Duration: Duración de la charla en segundos. \n",
    "+ event: Evento donde la charla se produjo.\n",
    "+ film_date: fecha en formato UNIX timestamp\n",
    "+ Languages: idiomas\n",
    "+ main_speaker: conferenciante principal.\n",
    "+ name: El nombre oficial.\n",
    "+ num_speaker: número de conferenciantes.\n",
    "+ published_date: fecha de publicación en UNIx timestamp.\n",
    "+ ratings: El número de veces que la charla la han votado dentro de una lista de categorías (divertida, inspiradora,...). Es una lista/array de objetos JSON del estilo {'id': 7, 'name': 'Funny', 'count': 19645}\n",
    "+ related_talks: Una lista de charlas recomendadas para ver a continuación. Es una lista de objetos JSON del estilo {'id': 865, 'hero': 'https://pe.tedcdn.com/images/ted/172559_800x600.jpg', 'speaker': 'Ken Robinson', 'title': 'Bring on the learning revolution!', 'duration': 1008, 'slug': 'sir_ken_robinson_bring_on_the_revolution', 'viewed_count': 7266103} \n",
    "+ speaker_occupation: La ocupación del conferenciante principal.\n",
    "+ tags: Temas asociados con la charla.\n",
    "+ Title: el título de la charla. Coincide con el \"name\" pero sin el nombre del conferenciante.\n",
    "+ url: la url.\n",
    "+ views: número de visitas.\n",
    "\n",
    "**Carga de datos**\n",
    "\n",
    "Los dos ficheros: ted_main.csv y transcripts.csv podrán importarse a pandas dataframes para su manipulación previa antes de cargarse en las bases de datos.\n",
    "\n",
    "**¿Qué preguntas se desean realizar? **\n",
    "\n",
    "Las consultas deberán resolverse en la medida de lo posible en la BD, es decir, no vale hacerlo todo en pandas.\n",
    "\n",
    "Preguntas a responder :\n",
    "\n",
    "+ ¿Cuál es el top 10 de las charlas más vistas?\n",
    "+ ¿Cuántas charlas hay por año?\n",
    "+ ¿Cuál es el top 10 de las charlas más Ingeniosas (Ingenious)? (en Cassandra, pensar una estructura que reponda a la pregunta para cualquier categoría, no solo Ingeniosas)\n",
    "+ ¿Cuales son las categorías más recurrentes?\n",
    "+ ¿Cuáles son las charlas más recomendadas? (las que aparecen más veces en related_talks)\n",
    "+ ¿En qué charlas se habla de una palabra o expresión concreta? (en Cassandra habrá que crear un SASIIndex según se describe en el seguiente enlace https://docs.datastax.com/en/dse/5.1/cql/cql/cql_using/useSASIIndex.html)\n",
    "\n",
    "\n",
    "**Modelado**\n",
    "\n",
    "Respecto al modelo de datos adoptado en ambas BBDD, deberá dibujarse un pequeño diagrama explicativo e insertarlo en el notebook."
   ]
  },
  {
   "cell_type": "markdown",
   "metadata": {},
   "source": [
    "## Modelado Cassandra"
   ]
  },
  {
   "cell_type": "markdown",
   "metadata": {},
   "source": [
    "Primero de todo, he juntado toda la información que se tiene. Una vez hecho esto, he modificado el campo \"film_date\" y he hecho que solo salga el año, ya que es lo que creo que es de interés para luego realizar la búsqueda por año. También creo que sería bueno que a parte del \"name\", el \"film_date\" sea una Partition Key, de modo que si tuvieramos más de un nodo, distribuiria las Ted Talks entre ellos en función del año, y posteriormente sería mucho más rápida la búsqueda de las mismas dado un año en concreto. "
   ]
  },
  {
   "cell_type": "markdown",
   "metadata": {},
   "source": [
    "<img src=\"Tablas_Cassandra.png\",width=900,height=600>\n",
    "<br><br> "
   ]
  },
  {
   "cell_type": "markdown",
   "metadata": {},
   "source": [
    "Las tablas son las siguientes:\n",
    "\n",
    "Talks: Tabla donde estan todas las charlas, donde la clave PK es Año, por lo que he explicado arriba, y donde se encuentra el numero de visitas, las veces que ha sido recomendada (esto lo he sacado transformando los datos con anterioridad) y el nombre de la charla. \n",
    "\n",
    "Categoria_recurrentes: EN este caso la PK sería categoría, ya que no creo que name tenga que estar en esta tabla, ya que no le veo sentido. \n",
    "\n",
    "Charlas_transcripts: La primary Key Name y el texto correspondiente a la charla, donde se usará el analizador de texto con el SASSIndex. \n",
    "\n",
    "Ratings: Cada Rating con el numero correspondiente de veces que ha sido valorado como tal. "
   ]
  },
  {
   "cell_type": "markdown",
   "metadata": {},
   "source": [
    "He entendido por categoria el campo \"Tags\", aunque me hace dudar si es la de \"Tags\" o la de \"Ratings\". De todos modos, habiendo hecho las consultas tanto en Cassandra como en MongoDB, salen los mismos valores. "
   ]
  },
  {
   "cell_type": "markdown",
   "metadata": {},
   "source": [
    "## Carga de datos en pandas"
   ]
  },
  {
   "cell_type": "code",
   "execution_count": 1,
   "metadata": {
    "collapsed": true
   },
   "outputs": [],
   "source": [
    "import pandas as pd\n",
    "import time"
   ]
  },
  {
   "cell_type": "code",
   "execution_count": 2,
   "metadata": {},
   "outputs": [],
   "source": [
    "import sys\n",
    "# sys.setdefaultencoding() does not exist, here!\n",
    "reload(sys)  # Reload does the trick!\n",
    "sys.setdefaultencoding('ASCII')\n"
   ]
  },
  {
   "cell_type": "code",
   "execution_count": 2,
   "metadata": {},
   "outputs": [],
   "source": [
    "df_ted = pd.read_csv(\"ted_main.csv\", encoding = 'utf8')\n",
    "df_transcripts = pd.read_csv(\"transcripts.csv\", encoding = 'utf8')\n",
    "df_ted['film_date'] = df_ted['film_date'].apply(lambda x: time.strftime('%Y', time.localtime(x)))\n",
    "df = pd.merge(df_ted, df_transcripts, on = ['url'], how = 'inner')\n"
   ]
  },
  {
   "cell_type": "code",
   "execution_count": 3,
   "metadata": {},
   "outputs": [
    {
     "data": {
      "text/plain": [
       "u\"['children', 'creativity', 'culture', 'dance', 'education', 'parenting', 'teaching']\""
      ]
     },
     "execution_count": 3,
     "metadata": {},
     "output_type": "execute_result"
    }
   ],
   "source": [
    "df['tags'][0]"
   ]
  },
  {
   "cell_type": "markdown",
   "metadata": {},
   "source": [
    "### DataFrame Valoración de Charlas"
   ]
  },
  {
   "cell_type": "code",
   "execution_count": 4,
   "metadata": {
    "collapsed": true
   },
   "outputs": [],
   "source": [
    "for i in range(0,len(df['ratings'])):\n",
    "    df['ratings'][i] = eval(df['ratings'][i])"
   ]
  },
  {
   "cell_type": "code",
   "execution_count": 5,
   "metadata": {},
   "outputs": [
    {
     "data": {
      "text/plain": [
       "u'Ken Robinson: Do schools kill creativity?'"
      ]
     },
     "execution_count": 5,
     "metadata": {},
     "output_type": "execute_result"
    }
   ],
   "source": [
    "df['name'][0]"
   ]
  },
  {
   "cell_type": "code",
   "execution_count": 6,
   "metadata": {
    "collapsed": true
   },
   "outputs": [],
   "source": [
    "df_charlas_valoraciones = pd.DataFrame(columns=['Name'])\n",
    "for index in range(0,len(df)):\n",
    "    df_charlas_valoraciones.loc[index] = df['name'][index]"
   ]
  },
  {
   "cell_type": "code",
   "execution_count": 7,
   "metadata": {},
   "outputs": [
    {
     "data": {
      "text/html": [
       "<div>\n",
       "<style>\n",
       "    .dataframe thead tr:only-child th {\n",
       "        text-align: right;\n",
       "    }\n",
       "\n",
       "    .dataframe thead th {\n",
       "        text-align: left;\n",
       "    }\n",
       "\n",
       "    .dataframe tbody tr th {\n",
       "        vertical-align: top;\n",
       "    }\n",
       "</style>\n",
       "<table border=\"1\" class=\"dataframe\">\n",
       "  <thead>\n",
       "    <tr style=\"text-align: right;\">\n",
       "      <th></th>\n",
       "      <th>Name</th>\n",
       "    </tr>\n",
       "  </thead>\n",
       "  <tbody>\n",
       "    <tr>\n",
       "      <th>0</th>\n",
       "      <td>Ken Robinson: Do schools kill creativity?</td>\n",
       "    </tr>\n",
       "    <tr>\n",
       "      <th>1</th>\n",
       "      <td>Al Gore: Averting the climate crisis</td>\n",
       "    </tr>\n",
       "  </tbody>\n",
       "</table>\n",
       "</div>"
      ],
      "text/plain": [
       "                                        Name\n",
       "0  Ken Robinson: Do schools kill creativity?\n",
       "1       Al Gore: Averting the climate crisis"
      ]
     },
     "execution_count": 7,
     "metadata": {},
     "output_type": "execute_result"
    }
   ],
   "source": [
    "df_charlas_valoraciones.head(2)"
   ]
  },
  {
   "cell_type": "code",
   "execution_count": 8,
   "metadata": {
    "collapsed": true
   },
   "outputs": [],
   "source": [
    "tipo_ratings=[]\n",
    "for linea in range(0,len(df['ratings'])):\n",
    "    for elemento in range(0,len(df['ratings'][linea])):\n",
    "        tipo_ratings.append(df['ratings'][linea][elemento]['name'])"
   ]
  },
  {
   "cell_type": "code",
   "execution_count": 9,
   "metadata": {},
   "outputs": [
    {
     "name": "stdout",
     "output_type": "stream",
     "text": [
      "['Beautiful', 'Funny', 'Inspiring', 'Obnoxious', 'OK', 'Fascinating', 'Informative', 'Persuasive', 'Longwinded', 'Ingenious', 'Jaw-dropping', 'Unconvincing', 'Courageous', 'Confusing']\n"
     ]
    }
   ],
   "source": [
    "tipo_ratings_unicos = list(set(tipo_ratings))\n",
    "print(tipo_ratings_unicos)"
   ]
  },
  {
   "cell_type": "code",
   "execution_count": 10,
   "metadata": {
    "collapsed": true
   },
   "outputs": [],
   "source": [
    "lista = []\n",
    "for i in range(0,len(df['ratings'])):\n",
    "    tmp_dic = {}\n",
    "    for j in range(0,len(df['ratings'][i])):\n",
    "        tmp_dic[df['ratings'][i][j]['name']]=df['ratings'][i][j]['count']\n",
    "    lista.append(tmp_dic)"
   ]
  },
  {
   "cell_type": "code",
   "execution_count": 11,
   "metadata": {},
   "outputs": [],
   "source": [
    "df_valoraciones = pd.DataFrame(columns=[tipo_ratings_unicos])"
   ]
  },
  {
   "cell_type": "code",
   "execution_count": 12,
   "metadata": {},
   "outputs": [],
   "source": [
    "for i in range(0,len(lista)):    \n",
    "    df_valoraciones.loc[i] = [lista[i]['Beautiful'],lista[i]['Funny'],lista[i]['Inspiring'],lista[i]['Obnoxious'],lista[i]['OK'],\n",
    "                            lista[i]['Fascinating'],lista[i]['Informative'],lista[i]['Persuasive'],lista[i]['Longwinded'],\n",
    "                            lista[i]['Ingenious'],lista[i]['Jaw-dropping'],lista[i]['Unconvincing'],lista[i]['Courageous'],\n",
    "                            lista[i]['Confusing']]"
   ]
  },
  {
   "cell_type": "code",
   "execution_count": 13,
   "metadata": {
    "collapsed": true
   },
   "outputs": [],
   "source": [
    "ratings_and_charlas = pd.concat([df_charlas_valoraciones, df_valoraciones], axis=1, join_axes=[df_charlas_valoraciones.index])"
   ]
  },
  {
   "cell_type": "code",
   "execution_count": null,
   "metadata": {},
   "outputs": [],
   "source": []
  },
  {
   "cell_type": "code",
   "execution_count": 14,
   "metadata": {},
   "outputs": [
    {
     "name": "stdout",
     "output_type": "stream",
     "text": [
      "2467\n"
     ]
    }
   ],
   "source": [
    "print(len(df))"
   ]
  },
  {
   "cell_type": "markdown",
   "metadata": {},
   "source": [
    "### Trato los datos para las categorias más recurrentes"
   ]
  },
  {
   "cell_type": "code",
   "execution_count": 15,
   "metadata": {},
   "outputs": [
    {
     "name": "stdout",
     "output_type": "stream",
     "text": [
      "['children', 'creativity', 'culture', 'dance', 'education', 'parenting', 'teaching']\n"
     ]
    }
   ],
   "source": [
    "print(df['tags'][0])\n",
    "lista_prueba = eval(df['tags'][0])"
   ]
  },
  {
   "cell_type": "code",
   "execution_count": 16,
   "metadata": {},
   "outputs": [
    {
     "name": "stdout",
     "output_type": "stream",
     "text": [
      "<type 'list'>\n"
     ]
    }
   ],
   "source": [
    "for i in range(0,len(df['tags'])):\n",
    "    df['tags'][i] = eval(df['tags'][i])\n",
    "\n",
    "print(type(df['tags'][0]))"
   ]
  },
  {
   "cell_type": "code",
   "execution_count": 17,
   "metadata": {
    "collapsed": true
   },
   "outputs": [],
   "source": [
    "tags1=[]\n",
    "for i in range(0,len(df['tags'])):\n",
    "    for elemento in range(0,len(df['tags'][i])):\n",
    "        tags1.append(df['tags'][i][elemento])\n",
    "        \n",
    "\n",
    "tags1_unnique = list(set(tags1))\n",
    "\n",
    "veces=[]\n",
    "for i in range(0,len(tags1_unnique)):\n",
    "        veces.append(tags1.count(tags1_unnique[i]))"
   ]
  },
  {
   "cell_type": "code",
   "execution_count": 18,
   "metadata": {},
   "outputs": [],
   "source": [
    "data = {'Categorias': tags1_unnique, 'Count': veces}\n",
    "dataframe_categorias_recurrentes=pd.DataFrame.from_dict(data)"
   ]
  },
  {
   "cell_type": "markdown",
   "metadata": {},
   "source": [
    "### Trato los datos para las charlas más recomendadas"
   ]
  },
  {
   "cell_type": "code",
   "execution_count": 14,
   "metadata": {
    "collapsed": true
   },
   "outputs": [],
   "source": [
    "for i in range(0,len(df['related_talks'])):\n",
    "    df['related_talks'][i] = eval(df['related_talks'][i])"
   ]
  },
  {
   "cell_type": "markdown",
   "metadata": {},
   "source": [
    "1 - Me guardo todas las charlas que existen en un array"
   ]
  },
  {
   "cell_type": "code",
   "execution_count": 15,
   "metadata": {},
   "outputs": [],
   "source": [
    "charlas = []\n",
    "for indice in range(0,len(df['name'])):\n",
    "        charlas.append(df['name'][indice])"
   ]
  },
  {
   "cell_type": "markdown",
   "metadata": {},
   "source": [
    "2 - Me guardo en otro array todas las charlas recomendadas"
   ]
  },
  {
   "cell_type": "code",
   "execution_count": 16,
   "metadata": {
    "collapsed": true
   },
   "outputs": [],
   "source": [
    "charlas_recomendadas=[]\n",
    "for indice in range(0,len(df['related_talks'])):\n",
    "    for i in range(0,len(df['related_talks'][indice])):        \n",
    "        #print(df['related_talks'][indice][i]['title'])\n",
    "        charlas_recomendadas.append(df['related_talks'][indice][i]['speaker']+\": \"+df['related_talks'][indice][i]['title'])"
   ]
  },
  {
   "cell_type": "markdown",
   "metadata": {},
   "source": [
    "3 - Compruebo de cada una de las charlas que hay, cuantas veces ha sido recomendada"
   ]
  },
  {
   "cell_type": "code",
   "execution_count": 17,
   "metadata": {},
   "outputs": [],
   "source": [
    "charlas_recomendadas_veces=[]\n",
    "for i in range(0,len(charlas)):\n",
    "        charlas_recomendadas_veces.append(charlas_recomendadas.count(charlas[i]))\n"
   ]
  },
  {
   "cell_type": "code",
   "execution_count": 18,
   "metadata": {
    "collapsed": true
   },
   "outputs": [],
   "source": [
    "data_veces_charlas_recomendadas = {'Charla': charlas, 'Veces': charlas_recomendadas_veces}\n",
    "dataframe_veces_charlas_recomendadas=pd.DataFrame.from_dict(data_veces_charlas_recomendadas)"
   ]
  },
  {
   "cell_type": "code",
   "execution_count": 37,
   "metadata": {},
   "outputs": [
    {
     "name": "stdout",
     "output_type": "stream",
     "text": [
      "Ken Robinson: Do schools kill creativity?\n",
      "Bring on the learning revolution!\n",
      "---------------------\n",
      "Ken Robinson: Do schools kill creativity?\n",
      "2467\n",
      "14802\n",
      "Ken Robinson: Bring on the learning revolution!\n"
     ]
    }
   ],
   "source": [
    "print(df['name'][0])\n",
    "print(df['related_talks'][0][0]['title'])\n",
    "print(\"---------------------\")\n",
    "print(data_veces_charlas_recomendadas['Charla'][0])\n",
    "print(len(df['related_talks']))\n",
    "print((len(df['related_talks'])*6))\n",
    "print(charlas_recomendadas[0])"
   ]
  },
  {
   "cell_type": "markdown",
   "metadata": {},
   "source": [
    "## Conexión con Cassandra"
   ]
  },
  {
   "cell_type": "code",
   "execution_count": 24,
   "metadata": {},
   "outputs": [],
   "source": [
    "%load_ext cql"
   ]
  },
  {
   "cell_type": "code",
   "execution_count": 25,
   "metadata": {},
   "outputs": [
    {
     "data": {
      "text/plain": [
       "'No results.'"
      ]
     },
     "execution_count": 25,
     "metadata": {},
     "output_type": "execute_result"
    }
   ],
   "source": [
    "%cql DROP KEYSPACE tedtalks"
   ]
  },
  {
   "cell_type": "code",
   "execution_count": 26,
   "metadata": {},
   "outputs": [
    {
     "data": {
      "text/plain": [
       "'No results.'"
      ]
     },
     "execution_count": 26,
     "metadata": {},
     "output_type": "execute_result"
    }
   ],
   "source": [
    "%%cql\n",
    "CREATE KEYSPACE tedtalks\n",
    "WITH replication = {'class':'SimpleStrategy', 'replication_factor': 1};"
   ]
  },
  {
   "cell_type": "code",
   "execution_count": 27,
   "metadata": {},
   "outputs": [
    {
     "data": {
      "text/plain": [
       "'No results.'"
      ]
     },
     "execution_count": 27,
     "metadata": {},
     "output_type": "execute_result"
    }
   ],
   "source": [
    "%cql USE tedtalks;"
   ]
  },
  {
   "cell_type": "markdown",
   "metadata": {},
   "source": [
    "## Creacción de las tablas Cassandra"
   ]
  },
  {
   "cell_type": "code",
   "execution_count": 28,
   "metadata": {},
   "outputs": [
    {
     "data": {
      "text/plain": [
       "'No results.'"
      ]
     },
     "execution_count": 28,
     "metadata": {},
     "output_type": "execute_result"
    }
   ],
   "source": [
    "%%cql\n",
    "CREATE TABLE talks(\n",
    "    year int,\n",
    "    views int,\n",
    "    vecesrecomendada int,\n",
    "    name text,\n",
    "    PRIMARY KEY ((year),views,vecesrecomendada,name)\n",
    "    )"
   ]
  },
  {
   "cell_type": "code",
   "execution_count": null,
   "metadata": {},
   "outputs": [],
   "source": [
    "%%cql\n",
    "DROP TABLE talks;"
   ]
  },
  {
   "cell_type": "code",
   "execution_count": 29,
   "metadata": {},
   "outputs": [
    {
     "data": {
      "text/plain": [
       "'No results.'"
      ]
     },
     "execution_count": 29,
     "metadata": {},
     "output_type": "execute_result"
    }
   ],
   "source": [
    "%%cql\n",
    "CREATE TABLE ratings(\n",
    "    Name text,\n",
    "    Beautiful int,\n",
    "    Funny int,\n",
    "    Inspiring int,\n",
    "    Obnoxious int,\n",
    "    OK int,\n",
    "    Fascinating int,\n",
    "    Informative int,\n",
    "    Persuasive int,\n",
    "    Longwinded int,\n",
    "    Ingenious int,\n",
    "    Jawdropping int,\n",
    "    Unconvincing int,\n",
    "    Courageous int,\n",
    "    Confusing int,\n",
    "    PRIMARY KEY (Name)\n",
    "    )"
   ]
  },
  {
   "cell_type": "code",
   "execution_count": 30,
   "metadata": {},
   "outputs": [
    {
     "data": {
      "text/plain": [
       "'No results.'"
      ]
     },
     "execution_count": 30,
     "metadata": {},
     "output_type": "execute_result"
    }
   ],
   "source": [
    "%%cql\n",
    "CREATE TABLE categorias_recurrentes(\n",
    "    Categoria text,\n",
    "    Apariciones int,\n",
    "    PRIMARY KEY ((Categoria),Apariciones)\n",
    "    )"
   ]
  },
  {
   "cell_type": "code",
   "execution_count": 31,
   "metadata": {},
   "outputs": [
    {
     "data": {
      "text/plain": [
       "'No results.'"
      ]
     },
     "execution_count": 31,
     "metadata": {},
     "output_type": "execute_result"
    }
   ],
   "source": [
    "%%cql\n",
    "CREATE TABLE charlas_transcripts ( \n",
    "  name text, \n",
    "  transcript text,\n",
    "  PRIMARY KEY ((name),transcript)\n",
    ")"
   ]
  },
  {
   "cell_type": "markdown",
   "metadata": {},
   "source": [
    "## Carga de datos en Cassandra"
   ]
  },
  {
   "cell_type": "code",
   "execution_count": 32,
   "metadata": {},
   "outputs": [],
   "source": [
    "from cassandra.cluster import Cluster, BatchStatement, ConsistencyLevel\n",
    "cluster = Cluster()\n",
    "session = cluster.connect('tedtalks')"
   ]
  },
  {
   "cell_type": "code",
   "execution_count": 33,
   "metadata": {
    "collapsed": true
   },
   "outputs": [],
   "source": [
    "def execute_query(sql):\n",
    "    rows = session.execute(sql)\n",
    "    return pd.DataFrame(list(rows))"
   ]
  },
  {
   "cell_type": "code",
   "execution_count": null,
   "metadata": {},
   "outputs": [],
   "source": []
  },
  {
   "cell_type": "code",
   "execution_count": 34,
   "metadata": {},
   "outputs": [],
   "source": [
    "def insert_talks(df,df2):\n",
    "\n",
    "    sql_insert = \"\"\"\n",
    "INSERT INTO talks (\n",
    "year,\n",
    "views,\n",
    "vecesrecomendada,\n",
    "name\n",
    ") VALUES (%s, %s, %s, %s)\n",
    "\"\"\"\n",
    "    for index in range(0,len(df)):\n",
    "        \n",
    "        film_date=int(df.ix[index, \"film_date\"])\n",
    "        views=int(df.ix[index, \"views\"])\n",
    "        vecesrecomendada=int(df2.ix[index,\"Veces\"])\n",
    "        name=df.ix[index, \"name\"]\n",
    "        \n",
    "        \n",
    "        data = [ \n",
    "                film_date,\n",
    "                views,\n",
    "                vecesrecomendada,\n",
    "                name                \n",
    "            ]\n",
    "    \n",
    "        \n",
    "        session.execute(sql_insert, data)"
   ]
  },
  {
   "cell_type": "code",
   "execution_count": 35,
   "metadata": {},
   "outputs": [],
   "source": [
    "insert_talks(df,dataframe_veces_charlas_recomendadas)"
   ]
  },
  {
   "cell_type": "code",
   "execution_count": null,
   "metadata": {},
   "outputs": [],
   "source": []
  },
  {
   "cell_type": "code",
   "execution_count": null,
   "metadata": {},
   "outputs": [],
   "source": [
    "sql = \"\"\"\n",
    "SELECT name,year,views\n",
    "FROM talks\n",
    "\"\"\"\n",
    "resultado_talks = execute_query(sql)"
   ]
  },
  {
   "cell_type": "code",
   "execution_count": 36,
   "metadata": {
    "collapsed": true
   },
   "outputs": [],
   "source": [
    "def insert_ratings(df):\n",
    "\n",
    "    sql_insert = \"\"\"\n",
    "INSERT INTO ratings (\n",
    "Name,\n",
    "Beautiful,\n",
    "Funny,\n",
    "Inspiring,\n",
    "Obnoxious,\n",
    "OK,\n",
    "Fascinating,\n",
    "Informative,\n",
    "Persuasive,\n",
    "Longwinded,\n",
    "Ingenious,\n",
    "Jawdropping,\n",
    "Unconvincing,\n",
    "Courageous,\n",
    "Confusing\n",
    ") VALUES (%s, %s, %s, %s, %s, %s, %s, %s, %s, %s, %s, %s, %s, %s, %s)\n",
    "\"\"\"\n",
    "    for index in df_valoraciones.index:\n",
    "        data = [\n",
    "                ratings_and_charlas.ix[index, \"Name\"],\n",
    "                ratings_and_charlas.ix[index, \"Beautiful\"],\n",
    "                ratings_and_charlas.ix[index, \"Funny\"],\n",
    "                ratings_and_charlas.ix[index, \"Inspiring\"],\n",
    "                ratings_and_charlas.ix[index, \"Obnoxious\"],\n",
    "                ratings_and_charlas.ix[index, \"OK\"],\n",
    "                ratings_and_charlas.ix[index, \"Fascinating\"],\n",
    "                ratings_and_charlas.ix[index, \"Informative\"],\n",
    "                ratings_and_charlas.ix[index, \"Persuasive\"],\n",
    "                ratings_and_charlas.ix[index, \"Longwinded\"],\n",
    "                ratings_and_charlas.ix[index, \"Ingenious\"],\n",
    "                ratings_and_charlas.ix[index, \"Jaw-dropping\"],\n",
    "                ratings_and_charlas.ix[index, \"Unconvincing\"],\n",
    "                ratings_and_charlas.ix[index, \"Courageous\"],\n",
    "                ratings_and_charlas.ix[index, \"Confusing\"]\n",
    "            ]\n",
    "        session.execute(sql_insert, data)"
   ]
  },
  {
   "cell_type": "code",
   "execution_count": 37,
   "metadata": {
    "collapsed": true
   },
   "outputs": [],
   "source": [
    "insert_ratings(ratings_and_charlas)"
   ]
  },
  {
   "cell_type": "code",
   "execution_count": 38,
   "metadata": {
    "collapsed": true
   },
   "outputs": [],
   "source": [
    "def insert_categories_and_counts(df):\n",
    "\n",
    "    sql_insert = \"\"\"\n",
    "INSERT INTO categorias_recurrentes (\n",
    "Categoria,\n",
    "Apariciones\n",
    ") VALUES (%s, %s)\n",
    "\"\"\"\n",
    "    for index in df.index:\n",
    "        data = [\n",
    "                df.ix[index, \"Categorias\"],\n",
    "                df.ix[index, \"Count\"]\n",
    "            ]\n",
    "        session.execute(sql_insert, data)"
   ]
  },
  {
   "cell_type": "code",
   "execution_count": 39,
   "metadata": {
    "collapsed": true
   },
   "outputs": [],
   "source": [
    "insert_categories_and_counts(dataframe_categorias_recurrentes)"
   ]
  },
  {
   "cell_type": "code",
   "execution_count": 50,
   "metadata": {
    "collapsed": true
   },
   "outputs": [],
   "source": [
    "def insert_tabla_ssindex(df):\n",
    "    sql_insert = \"\"\"\n",
    "INSERT INTO charlas_transcripts (\n",
    "name,\n",
    "transcript\n",
    ") VALUES (%s, %s)\n",
    "\"\"\"\n",
    "    for index in df.index:\n",
    "        data = [\n",
    "                df.ix[index, \"name\"],\n",
    "                df.ix[index, \"transcript\"]\n",
    "            ]\n",
    "        session.execute(sql_insert, data)"
   ]
  },
  {
   "cell_type": "code",
   "execution_count": 51,
   "metadata": {},
   "outputs": [],
   "source": [
    "insert_tabla_ssindex(df)"
   ]
  },
  {
   "cell_type": "markdown",
   "metadata": {},
   "source": [
    "#### Top 10 charlas más vistas"
   ]
  },
  {
   "cell_type": "code",
   "execution_count": 42,
   "metadata": {},
   "outputs": [
    {
     "data": {
      "text/html": [
       "<div>\n",
       "<style>\n",
       "    .dataframe thead tr:only-child th {\n",
       "        text-align: right;\n",
       "    }\n",
       "\n",
       "    .dataframe thead th {\n",
       "        text-align: left;\n",
       "    }\n",
       "\n",
       "    .dataframe tbody tr th {\n",
       "        vertical-align: top;\n",
       "    }\n",
       "</style>\n",
       "<table border=\"1\" class=\"dataframe\">\n",
       "  <thead>\n",
       "    <tr style=\"text-align: right;\">\n",
       "      <th></th>\n",
       "      <th>name</th>\n",
       "      <th>views</th>\n",
       "    </tr>\n",
       "  </thead>\n",
       "  <tbody>\n",
       "    <tr>\n",
       "      <th>855</th>\n",
       "      <td>Ken Robinson: Do schools kill creativity?</td>\n",
       "      <td>47227110</td>\n",
       "    </tr>\n",
       "    <tr>\n",
       "      <th>1113</th>\n",
       "      <td>Amy Cuddy: Your body language may shape who yo...</td>\n",
       "      <td>43155405</td>\n",
       "    </tr>\n",
       "    <tr>\n",
       "      <th>488</th>\n",
       "      <td>Simon Sinek: How great leaders inspire action</td>\n",
       "      <td>34309432</td>\n",
       "    </tr>\n",
       "    <tr>\n",
       "      <th>746</th>\n",
       "      <td>Brené Brown: The power of vulnerability</td>\n",
       "      <td>31168150</td>\n",
       "    </tr>\n",
       "    <tr>\n",
       "      <th>487</th>\n",
       "      <td>Mary Roach: 10 things you didn't know about or...</td>\n",
       "      <td>22270883</td>\n",
       "    </tr>\n",
       "    <tr>\n",
       "      <th>2383</th>\n",
       "      <td>Julian Treasure: How to speak so that people w...</td>\n",
       "      <td>21594632</td>\n",
       "    </tr>\n",
       "    <tr>\n",
       "      <th>2463</th>\n",
       "      <td>Jill Bolte Taylor: My stroke of insight</td>\n",
       "      <td>21190883</td>\n",
       "    </tr>\n",
       "    <tr>\n",
       "      <th>854</th>\n",
       "      <td>Tony Robbins: Why we do what we do</td>\n",
       "      <td>20685401</td>\n",
       "    </tr>\n",
       "    <tr>\n",
       "      <th>1566</th>\n",
       "      <td>James Veitch: This is what happens when you re...</td>\n",
       "      <td>20475972</td>\n",
       "    </tr>\n",
       "    <tr>\n",
       "      <th>1112</th>\n",
       "      <td>Cameron Russell: Looks aren't everything. Beli...</td>\n",
       "      <td>19787465</td>\n",
       "    </tr>\n",
       "  </tbody>\n",
       "</table>\n",
       "</div>"
      ],
      "text/plain": [
       "                                                   name     views\n",
       "855           Ken Robinson: Do schools kill creativity?  47227110\n",
       "1113  Amy Cuddy: Your body language may shape who yo...  43155405\n",
       "488       Simon Sinek: How great leaders inspire action  34309432\n",
       "746             Brené Brown: The power of vulnerability  31168150\n",
       "487   Mary Roach: 10 things you didn't know about or...  22270883\n",
       "2383  Julian Treasure: How to speak so that people w...  21594632\n",
       "2463            Jill Bolte Taylor: My stroke of insight  21190883\n",
       "854                  Tony Robbins: Why we do what we do  20685401\n",
       "1566  James Veitch: This is what happens when you re...  20475972\n",
       "1112  Cameron Russell: Looks aren't everything. Beli...  19787465"
      ]
     },
     "execution_count": 42,
     "metadata": {},
     "output_type": "execute_result"
    }
   ],
   "source": [
    "sql = \"\"\"SELECT name, views FROM talks\"\"\"\n",
    "top10_charlas_visitas = execute_query(sql)\n",
    "top10_charlas_visitas.sort_values(\"views\", ascending = False).head(10)"
   ]
  },
  {
   "cell_type": "markdown",
   "metadata": {},
   "source": [
    "#### Charlas por año"
   ]
  },
  {
   "cell_type": "code",
   "execution_count": 43,
   "metadata": {},
   "outputs": [
    {
     "name": "stderr",
     "output_type": "stream",
     "text": [
      "WARNING:cassandra.protocol:Server warning: Aggregation query used without partition key\n"
     ]
    },
    {
     "data": {
      "text/html": [
       "<div>\n",
       "<style>\n",
       "    .dataframe thead tr:only-child th {\n",
       "        text-align: right;\n",
       "    }\n",
       "\n",
       "    .dataframe thead th {\n",
       "        text-align: left;\n",
       "    }\n",
       "\n",
       "    .dataframe tbody tr th {\n",
       "        vertical-align: top;\n",
       "    }\n",
       "</style>\n",
       "<table border=\"1\" class=\"dataframe\">\n",
       "  <thead>\n",
       "    <tr style=\"text-align: right;\">\n",
       "      <th></th>\n",
       "      <th>year</th>\n",
       "      <th>num</th>\n",
       "    </tr>\n",
       "  </thead>\n",
       "  <tbody>\n",
       "    <tr>\n",
       "      <th>7</th>\n",
       "      <td>2017</td>\n",
       "      <td>98</td>\n",
       "    </tr>\n",
       "    <tr>\n",
       "      <th>18</th>\n",
       "      <td>2016</td>\n",
       "      <td>244</td>\n",
       "    </tr>\n",
       "    <tr>\n",
       "      <th>10</th>\n",
       "      <td>2015</td>\n",
       "      <td>239</td>\n",
       "    </tr>\n",
       "    <tr>\n",
       "      <th>0</th>\n",
       "      <td>2014</td>\n",
       "      <td>237</td>\n",
       "    </tr>\n",
       "    <tr>\n",
       "      <th>19</th>\n",
       "      <td>2013</td>\n",
       "      <td>268</td>\n",
       "    </tr>\n",
       "    <tr>\n",
       "      <th>6</th>\n",
       "      <td>2012</td>\n",
       "      <td>258</td>\n",
       "    </tr>\n",
       "    <tr>\n",
       "      <th>15</th>\n",
       "      <td>2011</td>\n",
       "      <td>239</td>\n",
       "    </tr>\n",
       "    <tr>\n",
       "      <th>3</th>\n",
       "      <td>2010</td>\n",
       "      <td>258</td>\n",
       "    </tr>\n",
       "    <tr>\n",
       "      <th>2</th>\n",
       "      <td>2009</td>\n",
       "      <td>219</td>\n",
       "    </tr>\n",
       "    <tr>\n",
       "      <th>20</th>\n",
       "      <td>2008</td>\n",
       "      <td>80</td>\n",
       "    </tr>\n",
       "    <tr>\n",
       "      <th>8</th>\n",
       "      <td>2007</td>\n",
       "      <td>110</td>\n",
       "    </tr>\n",
       "    <tr>\n",
       "      <th>5</th>\n",
       "      <td>2006</td>\n",
       "      <td>47</td>\n",
       "    </tr>\n",
       "    <tr>\n",
       "      <th>4</th>\n",
       "      <td>2005</td>\n",
       "      <td>62</td>\n",
       "    </tr>\n",
       "    <tr>\n",
       "      <th>17</th>\n",
       "      <td>2004</td>\n",
       "      <td>32</td>\n",
       "    </tr>\n",
       "    <tr>\n",
       "      <th>1</th>\n",
       "      <td>2003</td>\n",
       "      <td>33</td>\n",
       "    </tr>\n",
       "    <tr>\n",
       "      <th>12</th>\n",
       "      <td>2002</td>\n",
       "      <td>27</td>\n",
       "    </tr>\n",
       "    <tr>\n",
       "      <th>11</th>\n",
       "      <td>2001</td>\n",
       "      <td>4</td>\n",
       "    </tr>\n",
       "    <tr>\n",
       "      <th>9</th>\n",
       "      <td>1998</td>\n",
       "      <td>6</td>\n",
       "    </tr>\n",
       "    <tr>\n",
       "      <th>16</th>\n",
       "      <td>1994</td>\n",
       "      <td>1</td>\n",
       "    </tr>\n",
       "    <tr>\n",
       "      <th>13</th>\n",
       "      <td>1990</td>\n",
       "      <td>1</td>\n",
       "    </tr>\n",
       "    <tr>\n",
       "      <th>14</th>\n",
       "      <td>1984</td>\n",
       "      <td>1</td>\n",
       "    </tr>\n",
       "  </tbody>\n",
       "</table>\n",
       "</div>"
      ],
      "text/plain": [
       "    year  num\n",
       "7   2017   98\n",
       "18  2016  244\n",
       "10  2015  239\n",
       "0   2014  237\n",
       "19  2013  268\n",
       "6   2012  258\n",
       "15  2011  239\n",
       "3   2010  258\n",
       "2   2009  219\n",
       "20  2008   80\n",
       "8   2007  110\n",
       "5   2006   47\n",
       "4   2005   62\n",
       "17  2004   32\n",
       "1   2003   33\n",
       "12  2002   27\n",
       "11  2001    4\n",
       "9   1998    6\n",
       "16  1994    1\n",
       "13  1990    1\n",
       "14  1984    1"
      ]
     },
     "execution_count": 43,
     "metadata": {},
     "output_type": "execute_result"
    }
   ],
   "source": [
    "sql = \"\"\"SELECT year, count(*) as NUM FROM talks GROUP BY year \"\"\"\n",
    "charlas_por_year = execute_query(sql)\n",
    "charlas_por_year.sort_values('year', ascending = False)"
   ]
  },
  {
   "cell_type": "markdown",
   "metadata": {},
   "source": [
    "#### 10 charlas más ingeniosas"
   ]
  },
  {
   "cell_type": "code",
   "execution_count": 44,
   "metadata": {},
   "outputs": [
    {
     "data": {
      "text/html": [
       "<div>\n",
       "<style>\n",
       "    .dataframe thead tr:only-child th {\n",
       "        text-align: right;\n",
       "    }\n",
       "\n",
       "    .dataframe thead th {\n",
       "        text-align: left;\n",
       "    }\n",
       "\n",
       "    .dataframe tbody tr th {\n",
       "        vertical-align: top;\n",
       "    }\n",
       "</style>\n",
       "<table border=\"1\" class=\"dataframe\">\n",
       "  <thead>\n",
       "    <tr style=\"text-align: right;\">\n",
       "      <th></th>\n",
       "      <th>name</th>\n",
       "      <th>ingenious</th>\n",
       "    </tr>\n",
       "  </thead>\n",
       "  <tbody>\n",
       "    <tr>\n",
       "      <th>2321</th>\n",
       "      <td>Ken Robinson: Do schools kill creativity?</td>\n",
       "      <td>6073</td>\n",
       "    </tr>\n",
       "    <tr>\n",
       "      <th>1329</th>\n",
       "      <td>Pranav Mistry: The thrilling potential of Sixt...</td>\n",
       "      <td>4743</td>\n",
       "    </tr>\n",
       "    <tr>\n",
       "      <th>466</th>\n",
       "      <td>Simon Sinek: How great leaders inspire action</td>\n",
       "      <td>3413</td>\n",
       "    </tr>\n",
       "    <tr>\n",
       "      <th>1836</th>\n",
       "      <td>Johnny Lee: Free or cheap Wii Remote hacks</td>\n",
       "      <td>3249</td>\n",
       "    </tr>\n",
       "    <tr>\n",
       "      <th>591</th>\n",
       "      <td>Hans Rosling: The best stats you've ever seen</td>\n",
       "      <td>3202</td>\n",
       "    </tr>\n",
       "    <tr>\n",
       "      <th>855</th>\n",
       "      <td>Pattie Maes + Pranav Mistry: Meet the SixthSen...</td>\n",
       "      <td>2366</td>\n",
       "    </tr>\n",
       "    <tr>\n",
       "      <th>433</th>\n",
       "      <td>Sal Khan: Let's use video to reinvent education</td>\n",
       "      <td>1971</td>\n",
       "    </tr>\n",
       "    <tr>\n",
       "      <th>1335</th>\n",
       "      <td>Tim Urban: Inside the mind of a master procras...</td>\n",
       "      <td>1957</td>\n",
       "    </tr>\n",
       "    <tr>\n",
       "      <th>1953</th>\n",
       "      <td>Arthur Benjamin: A performance of \"Mathemagic\"</td>\n",
       "      <td>1944</td>\n",
       "    </tr>\n",
       "    <tr>\n",
       "      <th>1633</th>\n",
       "      <td>James Veitch: This is what happens when you re...</td>\n",
       "      <td>1766</td>\n",
       "    </tr>\n",
       "  </tbody>\n",
       "</table>\n",
       "</div>"
      ],
      "text/plain": [
       "                                                   name  ingenious\n",
       "2321          Ken Robinson: Do schools kill creativity?       6073\n",
       "1329  Pranav Mistry: The thrilling potential of Sixt...       4743\n",
       "466       Simon Sinek: How great leaders inspire action       3413\n",
       "1836         Johnny Lee: Free or cheap Wii Remote hacks       3249\n",
       "591       Hans Rosling: The best stats you've ever seen       3202\n",
       "855   Pattie Maes + Pranav Mistry: Meet the SixthSen...       2366\n",
       "433     Sal Khan: Let's use video to reinvent education       1971\n",
       "1335  Tim Urban: Inside the mind of a master procras...       1957\n",
       "1953     Arthur Benjamin: A performance of \"Mathemagic\"       1944\n",
       "1633  James Veitch: This is what happens when you re...       1766"
      ]
     },
     "execution_count": 44,
     "metadata": {},
     "output_type": "execute_result"
    }
   ],
   "source": [
    "sql = \"\"\"\n",
    "SELECT name, Ingenious\n",
    "FROM ratings\n",
    "\"\"\"\n",
    "resultado_ratings = execute_query(sql)\n",
    "resultado_ratings.sort_values('ingenious', ascending = False).head(10)"
   ]
  },
  {
   "cell_type": "markdown",
   "metadata": {},
   "source": [
    "#### Categorias más recurrentes"
   ]
  },
  {
   "cell_type": "code",
   "execution_count": 45,
   "metadata": {},
   "outputs": [
    {
     "data": {
      "text/html": [
       "<div>\n",
       "<style>\n",
       "    .dataframe thead tr:only-child th {\n",
       "        text-align: right;\n",
       "    }\n",
       "\n",
       "    .dataframe thead th {\n",
       "        text-align: left;\n",
       "    }\n",
       "\n",
       "    .dataframe tbody tr th {\n",
       "        vertical-align: top;\n",
       "    }\n",
       "</style>\n",
       "<table border=\"1\" class=\"dataframe\">\n",
       "  <thead>\n",
       "    <tr style=\"text-align: right;\">\n",
       "      <th></th>\n",
       "      <th>categoria</th>\n",
       "      <th>apariciones</th>\n",
       "    </tr>\n",
       "  </thead>\n",
       "  <tbody>\n",
       "    <tr>\n",
       "      <th>56</th>\n",
       "      <td>technology</td>\n",
       "      <td>712</td>\n",
       "    </tr>\n",
       "    <tr>\n",
       "      <th>207</th>\n",
       "      <td>science</td>\n",
       "      <td>548</td>\n",
       "    </tr>\n",
       "    <tr>\n",
       "      <th>199</th>\n",
       "      <td>global issues</td>\n",
       "      <td>490</td>\n",
       "    </tr>\n",
       "    <tr>\n",
       "      <th>204</th>\n",
       "      <td>culture</td>\n",
       "      <td>476</td>\n",
       "    </tr>\n",
       "    <tr>\n",
       "      <th>17</th>\n",
       "      <td>TEDx</td>\n",
       "      <td>418</td>\n",
       "    </tr>\n",
       "    <tr>\n",
       "      <th>120</th>\n",
       "      <td>design</td>\n",
       "      <td>408</td>\n",
       "    </tr>\n",
       "    <tr>\n",
       "      <th>373</th>\n",
       "      <td>business</td>\n",
       "      <td>338</td>\n",
       "    </tr>\n",
       "    <tr>\n",
       "      <th>310</th>\n",
       "      <td>entertainment</td>\n",
       "      <td>287</td>\n",
       "    </tr>\n",
       "    <tr>\n",
       "      <th>14</th>\n",
       "      <td>health</td>\n",
       "      <td>234</td>\n",
       "    </tr>\n",
       "    <tr>\n",
       "      <th>43</th>\n",
       "      <td>innovation</td>\n",
       "      <td>224</td>\n",
       "    </tr>\n",
       "  </tbody>\n",
       "</table>\n",
       "</div>"
      ],
      "text/plain": [
       "         categoria  apariciones\n",
       "56      technology          712\n",
       "207        science          548\n",
       "199  global issues          490\n",
       "204        culture          476\n",
       "17            TEDx          418\n",
       "120         design          408\n",
       "373       business          338\n",
       "310  entertainment          287\n",
       "14          health          234\n",
       "43      innovation          224"
      ]
     },
     "execution_count": 45,
     "metadata": {},
     "output_type": "execute_result"
    }
   ],
   "source": [
    "sql = \"\"\"\n",
    "SELECT Categoria, Apariciones FROM categorias_recurrentes \"\"\"\n",
    "resultado_categorias_recurrentes = execute_query(sql)\n",
    "resultado_categorias_recurrentes.sort_values('apariciones', ascending = False).head(10)"
   ]
  },
  {
   "cell_type": "markdown",
   "metadata": {},
   "source": [
    "#### Charlas más recomendadas"
   ]
  },
  {
   "cell_type": "code",
   "execution_count": 46,
   "metadata": {},
   "outputs": [
    {
     "data": {
      "text/html": [
       "<div>\n",
       "<style>\n",
       "    .dataframe thead tr:only-child th {\n",
       "        text-align: right;\n",
       "    }\n",
       "\n",
       "    .dataframe thead th {\n",
       "        text-align: left;\n",
       "    }\n",
       "\n",
       "    .dataframe tbody tr th {\n",
       "        vertical-align: top;\n",
       "    }\n",
       "</style>\n",
       "<table border=\"1\" class=\"dataframe\">\n",
       "  <thead>\n",
       "    <tr style=\"text-align: right;\">\n",
       "      <th></th>\n",
       "      <th>name</th>\n",
       "      <th>vecesrecomendada</th>\n",
       "    </tr>\n",
       "  </thead>\n",
       "  <tbody>\n",
       "    <tr>\n",
       "      <th>1204</th>\n",
       "      <td>Anne Lamott: 12 truths I learned from life and...</td>\n",
       "      <td>38</td>\n",
       "    </tr>\n",
       "    <tr>\n",
       "      <th>1871</th>\n",
       "      <td>Dan Gilbert: The surprising science of happiness</td>\n",
       "      <td>33</td>\n",
       "    </tr>\n",
       "    <tr>\n",
       "      <th>855</th>\n",
       "      <td>Ken Robinson: Do schools kill creativity?</td>\n",
       "      <td>25</td>\n",
       "    </tr>\n",
       "    <tr>\n",
       "      <th>796</th>\n",
       "      <td>Janine Benyus: Biomimicry's surprising lessons...</td>\n",
       "      <td>25</td>\n",
       "    </tr>\n",
       "    <tr>\n",
       "      <th>1760</th>\n",
       "      <td>Aaron Koblin: Visualizing ourselves ... with c...</td>\n",
       "      <td>25</td>\n",
       "    </tr>\n",
       "    <tr>\n",
       "      <th>1133</th>\n",
       "      <td>David Whyte: A lyrical bridge between past, pr...</td>\n",
       "      <td>25</td>\n",
       "    </tr>\n",
       "    <tr>\n",
       "      <th>419</th>\n",
       "      <td>Sylvia Earle: My wish: Protect our oceans</td>\n",
       "      <td>25</td>\n",
       "    </tr>\n",
       "    <tr>\n",
       "      <th>2056</th>\n",
       "      <td>Ari Wallach: 3 ways to plan for the (very) lon...</td>\n",
       "      <td>24</td>\n",
       "    </tr>\n",
       "    <tr>\n",
       "      <th>266</th>\n",
       "      <td>Wade Davis: Dreams from endangered cultures</td>\n",
       "      <td>24</td>\n",
       "    </tr>\n",
       "    <tr>\n",
       "      <th>836</th>\n",
       "      <td>Alan Russell: The potential of regenerative me...</td>\n",
       "      <td>24</td>\n",
       "    </tr>\n",
       "  </tbody>\n",
       "</table>\n",
       "</div>"
      ],
      "text/plain": [
       "                                                   name  vecesrecomendada\n",
       "1204  Anne Lamott: 12 truths I learned from life and...                38\n",
       "1871   Dan Gilbert: The surprising science of happiness                33\n",
       "855           Ken Robinson: Do schools kill creativity?                25\n",
       "796   Janine Benyus: Biomimicry's surprising lessons...                25\n",
       "1760  Aaron Koblin: Visualizing ourselves ... with c...                25\n",
       "1133  David Whyte: A lyrical bridge between past, pr...                25\n",
       "419           Sylvia Earle: My wish: Protect our oceans                25\n",
       "2056  Ari Wallach: 3 ways to plan for the (very) lon...                24\n",
       "266         Wade Davis: Dreams from endangered cultures                24\n",
       "836   Alan Russell: The potential of regenerative me...                24"
      ]
     },
     "execution_count": 46,
     "metadata": {},
     "output_type": "execute_result"
    }
   ],
   "source": [
    "sql = \"\"\"SELECT name,vecesrecomendada FROM talks \"\"\"\n",
    "resultado_charlas_mas_recomendadas = execute_query(sql)\n",
    "resultado_charlas_mas_recomendadas.sort_values('vecesrecomendada', ascending = False).head(10)"
   ]
  },
  {
   "cell_type": "markdown",
   "metadata": {
    "collapsed": true
   },
   "source": [
    "#### En qué charlas de habla de una palabra o expresión concreta"
   ]
  },
  {
   "cell_type": "code",
   "execution_count": null,
   "metadata": {},
   "outputs": [],
   "source": [
    "%%cql\n",
    "CREATE CUSTOM INDEX stdanalyzer_idx ON charlas_transcripts (transcript) USING 'org.apache.cassandra.index.sasi.SASIIndex'\n",
    "WITH OPTIONS = {\n",
    "'mode': 'CONTAINS',\n",
    "'analyzer_class': 'org.apache.cassandra.index.sasi.analyzer.StandardAnalyzer',\n",
    "'analyzed': 'true'\n",
    "};"
   ]
  },
  {
   "cell_type": "code",
   "execution_count": 53,
   "metadata": {
    "scrolled": true
   },
   "outputs": [
    {
     "data": {
      "text/html": [
       "<div>\n",
       "<style>\n",
       "    .dataframe thead tr:only-child th {\n",
       "        text-align: right;\n",
       "    }\n",
       "\n",
       "    .dataframe thead th {\n",
       "        text-align: left;\n",
       "    }\n",
       "\n",
       "    .dataframe tbody tr th {\n",
       "        vertical-align: top;\n",
       "    }\n",
       "</style>\n",
       "<table border=\"1\" class=\"dataframe\">\n",
       "  <thead>\n",
       "    <tr style=\"text-align: right;\">\n",
       "      <th></th>\n",
       "      <th>name</th>\n",
       "      <th>transcript</th>\n",
       "    </tr>\n",
       "  </thead>\n",
       "  <tbody>\n",
       "    <tr>\n",
       "      <th>0</th>\n",
       "      <td>Avi Rubin: All your devices can be hacked</td>\n",
       "      <td>I'm a computer science professor, and my area ...</td>\n",
       "    </tr>\n",
       "    <tr>\n",
       "      <th>1</th>\n",
       "      <td>Kristina Gjerde: Making law on the high seas</td>\n",
       "      <td>Today I'm going to take you on a voyage to som...</td>\n",
       "    </tr>\n",
       "    <tr>\n",
       "      <th>2</th>\n",
       "      <td>Peter Donnelly: How juries are fooled by stati...</td>\n",
       "      <td>As other speakers have said, it's a rather dau...</td>\n",
       "    </tr>\n",
       "    <tr>\n",
       "      <th>3</th>\n",
       "      <td>Kevin B. Jones: Why curiosity is the key to sc...</td>\n",
       "      <td>Science. The very word for many of you conjure...</td>\n",
       "    </tr>\n",
       "    <tr>\n",
       "      <th>4</th>\n",
       "      <td>Linda Liukas: A delightful way to teach kids a...</td>\n",
       "      <td>Code is the next universal language. In the se...</td>\n",
       "    </tr>\n",
       "    <tr>\n",
       "      <th>5</th>\n",
       "      <td>Nick Veasey: Exposing the invisible</td>\n",
       "      <td>So, 120 years ago, Dr. Röntgen X-rayed his wif...</td>\n",
       "    </tr>\n",
       "    <tr>\n",
       "      <th>6</th>\n",
       "      <td>Matthieu Ricard: The habits of happiness</td>\n",
       "      <td>So, I guess it is a result of globalization th...</td>\n",
       "    </tr>\n",
       "    <tr>\n",
       "      <th>7</th>\n",
       "      <td>Amy Cuddy: Your body language may shape who yo...</td>\n",
       "      <td>So I want to start by offering you a free no-t...</td>\n",
       "    </tr>\n",
       "    <tr>\n",
       "      <th>8</th>\n",
       "      <td>Garrett Lisi: An 8-dimensional model of the un...</td>\n",
       "      <td>Whoa, dude.(Laughter)Check out those killer eq...</td>\n",
       "    </tr>\n",
       "    <tr>\n",
       "      <th>9</th>\n",
       "      <td>Sangeeta Bhatia: This tiny particle could roam...</td>\n",
       "      <td>In the space that used to house one transistor...</td>\n",
       "    </tr>\n",
       "    <tr>\n",
       "      <th>10</th>\n",
       "      <td>Paola Antonelli: Design and the Elastic Mind</td>\n",
       "      <td>I dabble in design. I'm a curator of architect...</td>\n",
       "    </tr>\n",
       "    <tr>\n",
       "      <th>11</th>\n",
       "      <td>Alan Russell: The potential of regenerative me...</td>\n",
       "      <td>I'm going to talk to you today about hopefully...</td>\n",
       "    </tr>\n",
       "    <tr>\n",
       "      <th>12</th>\n",
       "      <td>Yuval Noah Harari: Nationalism vs. globalism: ...</td>\n",
       "      <td>Chris Anderson: Hello. Welcome to this TED Dia...</td>\n",
       "    </tr>\n",
       "    <tr>\n",
       "      <th>13</th>\n",
       "      <td>Tristram Wyatt: The smelly mystery of the huma...</td>\n",
       "      <td>\"Pheromone\" is a very powerful word. It conjur...</td>\n",
       "    </tr>\n",
       "    <tr>\n",
       "      <th>14</th>\n",
       "      <td>Rupal Patel: Synthetic voices, as unique as fi...</td>\n",
       "      <td>I'd like to talk today about a powerful and fu...</td>\n",
       "    </tr>\n",
       "    <tr>\n",
       "      <th>15</th>\n",
       "      <td>Bill Gates: Teachers need real feedback</td>\n",
       "      <td>Everyone needs a coach. It doesn't matter whet...</td>\n",
       "    </tr>\n",
       "    <tr>\n",
       "      <th>16</th>\n",
       "      <td>Parag Khanna: Mapping the future of countries</td>\n",
       "      <td>Do we live in a borderless world? Before you a...</td>\n",
       "    </tr>\n",
       "    <tr>\n",
       "      <th>17</th>\n",
       "      <td>Ben Wellington: How we found the worst place t...</td>\n",
       "      <td>Six thousand miles of road, 600 miles of subwa...</td>\n",
       "    </tr>\n",
       "    <tr>\n",
       "      <th>18</th>\n",
       "      <td>Suzanne Talhouk: Don't kill your language</td>\n",
       "      <td>Good morning! Are you awake? They took my name...</td>\n",
       "    </tr>\n",
       "    <tr>\n",
       "      <th>19</th>\n",
       "      <td>Eric Sanderson: New York -- before the City</td>\n",
       "      <td>The substance of things unseen. Cities, past a...</td>\n",
       "    </tr>\n",
       "    <tr>\n",
       "      <th>20</th>\n",
       "      <td>Louise Fresco: We need to feed the whole world</td>\n",
       "      <td>I'm not at all a cook. So don't fear, this is ...</td>\n",
       "    </tr>\n",
       "    <tr>\n",
       "      <th>21</th>\n",
       "      <td>Paula Johnson: His and hers … healthcare</td>\n",
       "      <td>Some of my most wonderful memories of childhoo...</td>\n",
       "    </tr>\n",
       "    <tr>\n",
       "      <th>22</th>\n",
       "      <td>Stewart Brand + Mark Z. Jacobson: Debate: Does...</td>\n",
       "      <td>Chris Anderson: We're having a debate. The deb...</td>\n",
       "    </tr>\n",
       "    <tr>\n",
       "      <th>23</th>\n",
       "      <td>Catarina Mota: Play with smart materials</td>\n",
       "      <td>I have a friend in Portugal whose grandfather ...</td>\n",
       "    </tr>\n",
       "    <tr>\n",
       "      <th>24</th>\n",
       "      <td>Jeremy Kasdin: The flower-shaped starshade tha...</td>\n",
       "      <td>The universe is teeming with planets. I want u...</td>\n",
       "    </tr>\n",
       "    <tr>\n",
       "      <th>25</th>\n",
       "      <td>Woody Norris: Hypersonic sound and other inven...</td>\n",
       "      <td>I became an inventor by accident. I was out of...</td>\n",
       "    </tr>\n",
       "    <tr>\n",
       "      <th>26</th>\n",
       "      <td>Maurizio Seracini: The secret lives of paintings</td>\n",
       "      <td>In 1975, I met in Florence a professor, Carlo ...</td>\n",
       "    </tr>\n",
       "    <tr>\n",
       "      <th>27</th>\n",
       "      <td>Norman Spack: How I help transgender teens bec...</td>\n",
       "      <td>I want you all to think about the third word t...</td>\n",
       "    </tr>\n",
       "    <tr>\n",
       "      <th>28</th>\n",
       "      <td>Tiq Milan and Kim Katrin Milan: A queer vision...</td>\n",
       "      <td>Tiq Milan: Our first conversation was on Faceb...</td>\n",
       "    </tr>\n",
       "    <tr>\n",
       "      <th>29</th>\n",
       "      <td>Hugh Evans: What does it mean to be a citizen ...</td>\n",
       "      <td>I want to introduce you to an amazing woman. H...</td>\n",
       "    </tr>\n",
       "    <tr>\n",
       "      <th>...</th>\n",
       "      <td>...</td>\n",
       "      <td>...</td>\n",
       "    </tr>\n",
       "    <tr>\n",
       "      <th>590</th>\n",
       "      <td>Ray Kurzweil: A university for the coming sing...</td>\n",
       "      <td>Information technology grows in an exponential...</td>\n",
       "    </tr>\n",
       "    <tr>\n",
       "      <th>591</th>\n",
       "      <td>Simon Lewis: Don't take consciousness for granted</td>\n",
       "      <td>There was a time in my life when everything se...</td>\n",
       "    </tr>\n",
       "    <tr>\n",
       "      <th>592</th>\n",
       "      <td>Jaap de Roode: How butterflies self-medicate</td>\n",
       "      <td>So infectious diseases, right? Infectious dise...</td>\n",
       "    </tr>\n",
       "    <tr>\n",
       "      <th>593</th>\n",
       "      <td>Sheila Patek: The shrimp with a kick!</td>\n",
       "      <td>If you'd like to learn how to play the lobster...</td>\n",
       "    </tr>\n",
       "    <tr>\n",
       "      <th>594</th>\n",
       "      <td>James B. Glattfelder: Who controls the world?</td>\n",
       "      <td>\"When the crisis came, the serious limitations...</td>\n",
       "    </tr>\n",
       "    <tr>\n",
       "      <th>595</th>\n",
       "      <td>Two young scientists break down plastics with ...</td>\n",
       "      <td>Miranda Wang: We're here to talk about acciden...</td>\n",
       "    </tr>\n",
       "    <tr>\n",
       "      <th>596</th>\n",
       "      <td>Heather Knight: Silicon-based comedy</td>\n",
       "      <td>Some of the greatest innovations and developme...</td>\n",
       "    </tr>\n",
       "    <tr>\n",
       "      <th>597</th>\n",
       "      <td>Olafur Eliasson: Playing with space and light</td>\n",
       "      <td>I have a studio in Berlin — let me cue on here...</td>\n",
       "    </tr>\n",
       "    <tr>\n",
       "      <th>598</th>\n",
       "      <td>Lisa Margonelli: The political chemistry of oil</td>\n",
       "      <td>So I'm going to talk to you about you about th...</td>\n",
       "    </tr>\n",
       "    <tr>\n",
       "      <th>599</th>\n",
       "      <td>Vernā Myers: How to overcome our biases? Walk ...</td>\n",
       "      <td>I was on a long road trip this summer, and I w...</td>\n",
       "    </tr>\n",
       "    <tr>\n",
       "      <th>600</th>\n",
       "      <td>Malcolm Gladwell: Choice, happiness and spaghe...</td>\n",
       "      <td>I think I was supposed to talk about my new bo...</td>\n",
       "    </tr>\n",
       "    <tr>\n",
       "      <th>601</th>\n",
       "      <td>Greg Lynn: Organic algorithms in architecture</td>\n",
       "      <td>What I thought I would talk about today is the...</td>\n",
       "    </tr>\n",
       "    <tr>\n",
       "      <th>602</th>\n",
       "      <td>Craig Venter: Watch me unveil \"synthetic life\"</td>\n",
       "      <td>We're here today to announce the first synthet...</td>\n",
       "    </tr>\n",
       "    <tr>\n",
       "      <th>603</th>\n",
       "      <td>David Agus: A new strategy in the war on cancer</td>\n",
       "      <td>I'm a cancer doctor, and I walked out of my of...</td>\n",
       "    </tr>\n",
       "    <tr>\n",
       "      <th>604</th>\n",
       "      <td>Ryan Gravel: How an old loop of railroads is c...</td>\n",
       "      <td>This picture is from my metro card when I spen...</td>\n",
       "    </tr>\n",
       "    <tr>\n",
       "      <th>605</th>\n",
       "      <td>Ani Liu: Smelfies, and other experiments in sy...</td>\n",
       "      <td>What if our plants could sense the toxicity le...</td>\n",
       "    </tr>\n",
       "    <tr>\n",
       "      <th>606</th>\n",
       "      <td>Jane McGonigal: Gaming can make a better world</td>\n",
       "      <td>I'm Jane McGonigal. I'm a game designer. I've ...</td>\n",
       "    </tr>\n",
       "    <tr>\n",
       "      <th>607</th>\n",
       "      <td>Ross Lovegrove: Organic design, inspired by na...</td>\n",
       "      <td>My name is Lovegrove. I only know nine Lovegro...</td>\n",
       "    </tr>\n",
       "    <tr>\n",
       "      <th>608</th>\n",
       "      <td>Robert Ballard: The astonishing hidden world o...</td>\n",
       "      <td>The first question is this. Our country has tw...</td>\n",
       "    </tr>\n",
       "    <tr>\n",
       "      <th>609</th>\n",
       "      <td>Marco Tempest: And for my next trick, a robot</td>\n",
       "      <td>Let me introduce you to something I've been wo...</td>\n",
       "    </tr>\n",
       "    <tr>\n",
       "      <th>610</th>\n",
       "      <td>Seth Berkley: HIV and flu -- the vaccine strategy</td>\n",
       "      <td>Do you worry about what is going to kill you? ...</td>\n",
       "    </tr>\n",
       "    <tr>\n",
       "      <th>611</th>\n",
       "      <td>Susan Blackmore: Memes and \"temes\"</td>\n",
       "      <td>Cultural evolution is a dangerous child for an...</td>\n",
       "    </tr>\n",
       "    <tr>\n",
       "      <th>612</th>\n",
       "      <td>Joseph Ravenell: How barbershops can keep men ...</td>\n",
       "      <td>What do you see? Most of you see a barbershop,...</td>\n",
       "    </tr>\n",
       "    <tr>\n",
       "      <th>613</th>\n",
       "      <td>Angela Lee Duckworth: Grit: The power of passi...</td>\n",
       "      <td>When I was 27 years old, I left a very demandi...</td>\n",
       "    </tr>\n",
       "    <tr>\n",
       "      <th>614</th>\n",
       "      <td>Amy Webb: How I hacked online dating</td>\n",
       "      <td>So my name is Amy Webb, and a few years ago I ...</td>\n",
       "    </tr>\n",
       "    <tr>\n",
       "      <th>615</th>\n",
       "      <td>Sara Seager: The search for planets beyond our...</td>\n",
       "      <td>I'm here to tell you about the real search for...</td>\n",
       "    </tr>\n",
       "    <tr>\n",
       "      <th>616</th>\n",
       "      <td>Michael Bodekaer: This virtual lab will revolu...</td>\n",
       "      <td>Today, I am going to show you how this tablet ...</td>\n",
       "    </tr>\n",
       "    <tr>\n",
       "      <th>617</th>\n",
       "      <td>David Sedlak: 4 ways we can avoid a catastroph...</td>\n",
       "      <td>Our grandparents' generation created an amazin...</td>\n",
       "    </tr>\n",
       "    <tr>\n",
       "      <th>618</th>\n",
       "      <td>Pam Warhurst: How we can eat our landscapes</td>\n",
       "      <td>The will to live life differently can start in...</td>\n",
       "    </tr>\n",
       "    <tr>\n",
       "      <th>619</th>\n",
       "      <td>David Baron: You owe it to yourself to experie...</td>\n",
       "      <td>Before I get to bulk of what I have to say, I ...</td>\n",
       "    </tr>\n",
       "  </tbody>\n",
       "</table>\n",
       "<p>620 rows × 2 columns</p>\n",
       "</div>"
      ],
      "text/plain": [
       "                                                  name  \\\n",
       "0            Avi Rubin: All your devices can be hacked   \n",
       "1         Kristina Gjerde: Making law on the high seas   \n",
       "2    Peter Donnelly: How juries are fooled by stati...   \n",
       "3    Kevin B. Jones: Why curiosity is the key to sc...   \n",
       "4    Linda Liukas: A delightful way to teach kids a...   \n",
       "5                  Nick Veasey: Exposing the invisible   \n",
       "6             Matthieu Ricard: The habits of happiness   \n",
       "7    Amy Cuddy: Your body language may shape who yo...   \n",
       "8    Garrett Lisi: An 8-dimensional model of the un...   \n",
       "9    Sangeeta Bhatia: This tiny particle could roam...   \n",
       "10        Paola Antonelli: Design and the Elastic Mind   \n",
       "11   Alan Russell: The potential of regenerative me...   \n",
       "12   Yuval Noah Harari: Nationalism vs. globalism: ...   \n",
       "13   Tristram Wyatt: The smelly mystery of the huma...   \n",
       "14   Rupal Patel: Synthetic voices, as unique as fi...   \n",
       "15             Bill Gates: Teachers need real feedback   \n",
       "16       Parag Khanna: Mapping the future of countries   \n",
       "17   Ben Wellington: How we found the worst place t...   \n",
       "18           Suzanne Talhouk: Don't kill your language   \n",
       "19         Eric Sanderson: New York -- before the City   \n",
       "20      Louise Fresco: We need to feed the whole world   \n",
       "21            Paula Johnson: His and hers … healthcare   \n",
       "22   Stewart Brand + Mark Z. Jacobson: Debate: Does...   \n",
       "23            Catarina Mota: Play with smart materials   \n",
       "24   Jeremy Kasdin: The flower-shaped starshade tha...   \n",
       "25   Woody Norris: Hypersonic sound and other inven...   \n",
       "26    Maurizio Seracini: The secret lives of paintings   \n",
       "27   Norman Spack: How I help transgender teens bec...   \n",
       "28   Tiq Milan and Kim Katrin Milan: A queer vision...   \n",
       "29   Hugh Evans: What does it mean to be a citizen ...   \n",
       "..                                                 ...   \n",
       "590  Ray Kurzweil: A university for the coming sing...   \n",
       "591  Simon Lewis: Don't take consciousness for granted   \n",
       "592       Jaap de Roode: How butterflies self-medicate   \n",
       "593              Sheila Patek: The shrimp with a kick!   \n",
       "594      James B. Glattfelder: Who controls the world?   \n",
       "595  Two young scientists break down plastics with ...   \n",
       "596               Heather Knight: Silicon-based comedy   \n",
       "597      Olafur Eliasson: Playing with space and light   \n",
       "598    Lisa Margonelli: The political chemistry of oil   \n",
       "599  Vernā Myers: How to overcome our biases? Walk ...   \n",
       "600  Malcolm Gladwell: Choice, happiness and spaghe...   \n",
       "601      Greg Lynn: Organic algorithms in architecture   \n",
       "602     Craig Venter: Watch me unveil \"synthetic life\"   \n",
       "603    David Agus: A new strategy in the war on cancer   \n",
       "604  Ryan Gravel: How an old loop of railroads is c...   \n",
       "605  Ani Liu: Smelfies, and other experiments in sy...   \n",
       "606     Jane McGonigal: Gaming can make a better world   \n",
       "607  Ross Lovegrove: Organic design, inspired by na...   \n",
       "608  Robert Ballard: The astonishing hidden world o...   \n",
       "609      Marco Tempest: And for my next trick, a robot   \n",
       "610  Seth Berkley: HIV and flu -- the vaccine strategy   \n",
       "611                 Susan Blackmore: Memes and \"temes\"   \n",
       "612  Joseph Ravenell: How barbershops can keep men ...   \n",
       "613  Angela Lee Duckworth: Grit: The power of passi...   \n",
       "614               Amy Webb: How I hacked online dating   \n",
       "615  Sara Seager: The search for planets beyond our...   \n",
       "616  Michael Bodekaer: This virtual lab will revolu...   \n",
       "617  David Sedlak: 4 ways we can avoid a catastroph...   \n",
       "618        Pam Warhurst: How we can eat our landscapes   \n",
       "619  David Baron: You owe it to yourself to experie...   \n",
       "\n",
       "                                            transcript  \n",
       "0    I'm a computer science professor, and my area ...  \n",
       "1    Today I'm going to take you on a voyage to som...  \n",
       "2    As other speakers have said, it's a rather dau...  \n",
       "3    Science. The very word for many of you conjure...  \n",
       "4    Code is the next universal language. In the se...  \n",
       "5    So, 120 years ago, Dr. Röntgen X-rayed his wif...  \n",
       "6    So, I guess it is a result of globalization th...  \n",
       "7    So I want to start by offering you a free no-t...  \n",
       "8    Whoa, dude.(Laughter)Check out those killer eq...  \n",
       "9    In the space that used to house one transistor...  \n",
       "10   I dabble in design. I'm a curator of architect...  \n",
       "11   I'm going to talk to you today about hopefully...  \n",
       "12   Chris Anderson: Hello. Welcome to this TED Dia...  \n",
       "13   \"Pheromone\" is a very powerful word. It conjur...  \n",
       "14   I'd like to talk today about a powerful and fu...  \n",
       "15   Everyone needs a coach. It doesn't matter whet...  \n",
       "16   Do we live in a borderless world? Before you a...  \n",
       "17   Six thousand miles of road, 600 miles of subwa...  \n",
       "18   Good morning! Are you awake? They took my name...  \n",
       "19   The substance of things unseen. Cities, past a...  \n",
       "20   I'm not at all a cook. So don't fear, this is ...  \n",
       "21   Some of my most wonderful memories of childhoo...  \n",
       "22   Chris Anderson: We're having a debate. The deb...  \n",
       "23   I have a friend in Portugal whose grandfather ...  \n",
       "24   The universe is teeming with planets. I want u...  \n",
       "25   I became an inventor by accident. I was out of...  \n",
       "26   In 1975, I met in Florence a professor, Carlo ...  \n",
       "27   I want you all to think about the third word t...  \n",
       "28   Tiq Milan: Our first conversation was on Faceb...  \n",
       "29   I want to introduce you to an amazing woman. H...  \n",
       "..                                                 ...  \n",
       "590  Information technology grows in an exponential...  \n",
       "591  There was a time in my life when everything se...  \n",
       "592  So infectious diseases, right? Infectious dise...  \n",
       "593  If you'd like to learn how to play the lobster...  \n",
       "594  \"When the crisis came, the serious limitations...  \n",
       "595  Miranda Wang: We're here to talk about acciden...  \n",
       "596  Some of the greatest innovations and developme...  \n",
       "597  I have a studio in Berlin — let me cue on here...  \n",
       "598  So I'm going to talk to you about you about th...  \n",
       "599  I was on a long road trip this summer, and I w...  \n",
       "600  I think I was supposed to talk about my new bo...  \n",
       "601  What I thought I would talk about today is the...  \n",
       "602  We're here today to announce the first synthet...  \n",
       "603  I'm a cancer doctor, and I walked out of my of...  \n",
       "604  This picture is from my metro card when I spen...  \n",
       "605  What if our plants could sense the toxicity le...  \n",
       "606  I'm Jane McGonigal. I'm a game designer. I've ...  \n",
       "607  My name is Lovegrove. I only know nine Lovegro...  \n",
       "608  The first question is this. Our country has tw...  \n",
       "609  Let me introduce you to something I've been wo...  \n",
       "610  Do you worry about what is going to kill you? ...  \n",
       "611  Cultural evolution is a dangerous child for an...  \n",
       "612  What do you see? Most of you see a barbershop,...  \n",
       "613  When I was 27 years old, I left a very demandi...  \n",
       "614  So my name is Amy Webb, and a few years ago I ...  \n",
       "615  I'm here to tell you about the real search for...  \n",
       "616  Today, I am going to show you how this tablet ...  \n",
       "617  Our grandparents' generation created an amazin...  \n",
       "618  The will to live life differently can start in...  \n",
       "619  Before I get to bulk of what I have to say, I ...  \n",
       "\n",
       "[620 rows x 2 columns]"
      ]
     },
     "execution_count": 53,
     "metadata": {},
     "output_type": "execute_result"
    }
   ],
   "source": [
    "sql = \"\"\"SELECT * FROM charlas_transcripts WHERE transcript LIKE 'science' \"\"\"\n",
    "resultado_transcript_sassindex = execute_query(sql)\n",
    "resultado_transcript_sassindex"
   ]
  },
  {
   "cell_type": "code",
   "execution_count": null,
   "metadata": {},
   "outputs": [],
   "source": []
  }
 ],
 "metadata": {
  "kernelspec": {
   "display_name": "Python 3",
   "language": "python",
   "name": "python3"
  },
  "language_info": {
   "codemirror_mode": {
    "name": "ipython",
    "version": 3
   },
   "file_extension": ".py",
   "mimetype": "text/x-python",
   "name": "python",
   "nbconvert_exporter": "python",
   "pygments_lexer": "ipython3",
   "version": "3.7.3"
  }
 },
 "nbformat": 4,
 "nbformat_minor": 1
}
